{
 "cells": [
  {
   "cell_type": "code",
   "execution_count": 1,
   "id": "c33c9de5",
   "metadata": {},
   "outputs": [
    {
     "name": "stderr",
     "output_type": "stream",
     "text": [
      "/root/bigearthnet/BigEarthNet-Models/.venv/lib/python3.12/site-packages/tqdm/auto.py:21: TqdmWarning: IProgress not found. Please update jupyter and ipywidgets. See https://ipywidgets.readthedocs.io/en/stable/user_install.html\n",
      "  from .autonotebook import tqdm as notebook_tqdm\n"
     ]
    }
   ],
   "source": [
    "from src.metrics.metrics import MultiClasses"
   ]
  },
  {
   "cell_type": "code",
   "execution_count": 2,
   "id": "a8449b7f",
   "metadata": {},
   "outputs": [],
   "source": [
    "train_metrics = MultiClasses(20)"
   ]
  },
  {
   "cell_type": "code",
   "execution_count": 3,
   "id": "4006ee82",
   "metadata": {},
   "outputs": [
    {
     "data": {
      "text/plain": [
       "MultiClasses(\n",
       "  (accuracy): MulticlassAccuracy()\n",
       "  (f1_score): MulticlassF1Score()\n",
       "  (precision): MulticlassPrecision()\n",
       "  (recall): MulticlassRecall()\n",
       "  (accuracy_per_class): MulticlassAccuracy()\n",
       "  (f1_per_class): MulticlassF1Score()\n",
       ")"
      ]
     },
     "execution_count": 3,
     "metadata": {},
     "output_type": "execute_result"
    }
   ],
   "source": [
    "train_metrics"
   ]
  },
  {
   "cell_type": "code",
   "execution_count": null,
   "id": "98e2ba2f",
   "metadata": {},
   "outputs": [],
   "source": [
    "for i in range(2):\n",
    "    "
   ]
  }
 ],
 "metadata": {
  "kernelspec": {
   "display_name": "bigearthnet-models",
   "language": "python",
   "name": "python3"
  },
  "language_info": {
   "codemirror_mode": {
    "name": "ipython",
    "version": 3
   },
   "file_extension": ".py",
   "mimetype": "text/x-python",
   "name": "python",
   "nbconvert_exporter": "python",
   "pygments_lexer": "ipython3",
   "version": "3.12.3"
  }
 },
 "nbformat": 4,
 "nbformat_minor": 5
}
